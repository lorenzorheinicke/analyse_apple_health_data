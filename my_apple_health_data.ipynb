{
 "cells": [
  {
   "cell_type": "markdown",
   "metadata": {},
   "source": [
    "# Project: Analyzing my Apple Health data\n",
    "\n",
    "Fist using the steps in the **How to Export, Parse and Explore Your Apple Health Data With Python** article ref link: http://www.markwk.com/data-analysis-for-apple-health.html by Mark Koester"
   ]
  },
  {
   "cell_type": "markdown",
   "metadata": {},
   "source": [
    "My Github repo for this project: [INSERT LINK HERE]\n",
    "\n",
    "Todo list:\n",
    "- Read data from Apple Heatlh data export \n",
    "- Insert link on article on how to do that\n",
    "- Explore data\n",
    "- Visualize initial health data\n",
    "- Clean up data and tidy data\n",
    "- Next steps?"
   ]
  },
  {
   "cell_type": "markdown",
   "metadata": {},
   "source": [
    "Some other notes/thouths:\n",
    "- How to backup Apple Health data on a regurlar basis\n",
    "- Read **How to Track your Workouts** article: http://www.markwk.com/how-to-track-workouts-fitness.html\n",
    "- if you want to go one step further into the raw data that your device’s sensors are recording, checkout apps like SensorLog - http://sensorlog.berndthomas.net/\n"
   ]
  },
  {
   "cell_type": "markdown",
   "metadata": {},
   "source": [
    "First step is to convert the XML data to CSV or ...\n",
    "- Python script to export Apple Health dump file to a data frame for analysis. https://github.com/mganjoo/apple-health-exporter\n",
    "- Clone the repo above 👆\n",
    "- setup environment as per repo\n",
    "- run python script to convert XML to feather data type"
   ]
  },
  {
   "cell_type": "code",
   "execution_count": null,
   "metadata": {},
   "outputs": [],
   "source": [
    "import pandas as pd\n"
   ]
  }
 ],
 "metadata": {
  "kernelspec": {
   "display_name": "Python 3",
   "language": "python",
   "name": "python3"
  },
  "language_info": {
   "codemirror_mode": {
    "name": "ipython",
    "version": 3
   },
   "file_extension": ".py",
   "mimetype": "text/x-python",
   "name": "python",
   "nbconvert_exporter": "python",
   "pygments_lexer": "ipython3",
   "version": "3.7.3"
  }
 },
 "nbformat": 4,
 "nbformat_minor": 2
}
